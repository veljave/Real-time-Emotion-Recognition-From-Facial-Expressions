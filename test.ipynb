{
 "cells": [
  {
   "cell_type": "markdown",
   "metadata": {},
   "source": [
    "First steps of making a model for emotion recogniton\n",
    "Dataset: FER-2013"
   ]
  },
  {
   "cell_type": "markdown",
   "metadata": {},
   "source": [
    "Importing libraries"
   ]
  },
  {
   "cell_type": "code",
   "execution_count": 2,
   "metadata": {},
   "outputs": [],
   "source": [
    "import pandas as pd\n",
    "import cv2\n",
    "import numpy as np\n",
    "import os"
   ]
  },
  {
   "cell_type": "markdown",
   "metadata": {},
   "source": [
    "Testing different ways to import the dataset.\n",
    "First attempt is trying to load images as numpy arrays where each pixel has 3 values from 0 to 255 representing the RGB of the pixel. "
   ]
  },
  {
   "cell_type": "markdown",
   "metadata": {},
   "source": [
    "Images are grayscale"
   ]
  },
  {
   "cell_type": "markdown",
   "metadata": {},
   "source": [
    "**NOTE**: OpenCV uses a channel format of BGR instead of RGB"
   ]
  },
  {
   "cell_type": "code",
   "execution_count": 6,
   "metadata": {},
   "outputs": [
    {
     "data": {
      "text/plain": [
       "(48, 48)"
      ]
     },
     "execution_count": 6,
     "metadata": {},
     "output_type": "execute_result"
    }
   ],
   "source": [
    "im = cv2.imread('train/angry/Training_3908.jpg', 0) # The 0 flag is to load the image in grayscale\n",
    "im.shape\n"
   ]
  },
  {
   "cell_type": "code",
   "execution_count": 7,
   "metadata": {},
   "outputs": [],
   "source": [
    "dir = \"test/angry\"\n",
    "angry = []\n",
    "for image in os.listdir(dir):\n",
    "    im = cv2.imread(dir + \"/\" + image, 0)\n",
    "    angry.append(im)\n",
    "angry = np.array(angry)"
   ]
  },
  {
   "cell_type": "code",
   "execution_count": 8,
   "metadata": {},
   "outputs": [
    {
     "data": {
      "text/plain": [
       "3"
      ]
     },
     "execution_count": 8,
     "metadata": {},
     "output_type": "execute_result"
    }
   ],
   "source": [
    "angry.ndim\n"
   ]
  },
  {
   "cell_type": "code",
   "execution_count": 9,
   "metadata": {},
   "outputs": [
    {
     "data": {
      "text/plain": [
       "array([[[ 83,  75,  62, ...,  31,  31,  31],\n",
       "        [ 61,  53,  53, ...,  31,  31,  32],\n",
       "        [ 43,  38,  34, ...,  36,  30,  27],\n",
       "        ...,\n",
       "        [ 21,  20,  20, ...,  10,  11,  16],\n",
       "        [ 24,  22,  20, ...,  17,  11,   7],\n",
       "        [ 22,  21,  15, ...,  12,   9,  10]],\n",
       "\n",
       "       [[127, 126, 123, ...,  62,  63,  50],\n",
       "        [129, 127, 125, ...,  61,  65,  56],\n",
       "        [131, 128, 127, ...,  60,  56,  57],\n",
       "        ...,\n",
       "        [206, 197, 207, ...,  17,  14,  29],\n",
       "        [201, 196, 222, ...,  33,  14,  26],\n",
       "        [191, 205, 239, ..., 128,  97,  78]],\n",
       "\n",
       "       [[250, 251, 251, ..., 250, 250, 249],\n",
       "        [250, 251, 250, ..., 245, 251, 251],\n",
       "        [249, 251, 250, ..., 255, 245, 249],\n",
       "        ...,\n",
       "        [151, 150, 155, ...,  66, 107,  95],\n",
       "        [150, 152, 159, ...,  89, 107,  86],\n",
       "        [153, 153, 158, ..., 108,  98,  85]],\n",
       "\n",
       "       ...,\n",
       "\n",
       "       [[  9,   8,   9, ..., 177, 159, 185],\n",
       "        [ 10,  25,  46, ..., 178, 159, 186],\n",
       "        [ 54,  58,  63, ..., 184, 164, 185],\n",
       "        ...,\n",
       "        [ 23,  25,  15, ..., 180, 176, 175],\n",
       "        [ 22,  30,  25, ..., 171, 173, 174],\n",
       "        [ 23,  33,  36, ..., 154, 162, 178]],\n",
       "\n",
       "       [[218, 224, 222, ..., 187, 188, 189],\n",
       "        [222, 223, 226, ..., 187, 188, 188],\n",
       "        [215, 227, 227, ..., 187, 187, 187],\n",
       "        ...,\n",
       "        [223, 223, 227, ..., 169, 178, 177],\n",
       "        [237, 233, 234, ..., 158, 157, 164],\n",
       "        [234, 237, 234, ..., 166, 161, 168]],\n",
       "\n",
       "       [[132, 136,  96, ...,  33,  13,  18],\n",
       "        [136, 118,  62, ...,  48,  30,  18],\n",
       "        [134,  97,  34, ...,  63,  31,  33],\n",
       "        ...,\n",
       "        [ 80,  71,  75, ..., 127, 151, 148],\n",
       "        [ 76,  64,  71, ..., 119, 147, 150],\n",
       "        [ 72,  57,  79, ..., 121, 143, 156]]], dtype=uint8)"
      ]
     },
     "execution_count": 9,
     "metadata": {},
     "output_type": "execute_result"
    }
   ],
   "source": [
    "angry"
   ]
  },
  {
   "cell_type": "code",
   "execution_count": null,
   "metadata": {},
   "outputs": [],
   "source": []
  }
 ],
 "metadata": {
  "kernelspec": {
   "display_name": "Python 3",
   "language": "python",
   "name": "python3"
  },
  "language_info": {
   "codemirror_mode": {
    "name": "ipython",
    "version": 3
   },
   "file_extension": ".py",
   "mimetype": "text/x-python",
   "name": "python",
   "nbconvert_exporter": "python",
   "pygments_lexer": "ipython3",
   "version": "3.11.8"
  }
 },
 "nbformat": 4,
 "nbformat_minor": 2
}
